{
 "cells": [
  {
   "cell_type": "markdown",
   "id": "06ff22ba",
   "metadata": {},
   "source": [
    "### This script will load some actual trajectory data and see how well the model fits\n",
    "First import the maths and plotting packages we used before"
   ]
  },
  {
   "cell_type": "code",
   "execution_count": null,
   "id": "b1d86f19",
   "metadata": {},
   "outputs": [],
   "source": [
    "import numpy as np\n",
    "from matplotlib import pyplot as plt\n",
    "import csv"
   ]
  },
  {
   "cell_type": "markdown",
   "id": "9dc896d1",
   "metadata": {},
   "source": [
    "#### We need to load some trajectory data\n",
    "These are real trajectories from a table tennis ball.\n",
    "\n",
    "There are three columns; [x, y, velocity].\n",
    "\n",
    "For now, we're going to load trajectory 75 and separate out the parameters (note different parameter names)"
   ]
  },
  {
   "cell_type": "code",
   "execution_count": null,
   "id": "469df4bf",
   "metadata": {},
   "outputs": [],
   "source": [
    "trajectory=75\n",
    "data = np.genfromtxt('trajectories/trajectory'+str(trajectory)+'.txt',delimiter=',');\n",
    "sx = data[:,0];\n",
    "sy = data[:,1];\n",
    "vx = data[:,2];\n",
    "vy = data[:,3];"
   ]
  },
  {
   "cell_type": "markdown",
   "id": "c067e9eb",
   "metadata": {},
   "source": [
    "#### Let's plot the trajectory\n",
    "Each one starts at zero on the x-axis and ends when the y value reaches zero (when the ball hit the table). The launch height and angle are variable"
   ]
  },
  {
   "cell_type": "code",
   "execution_count": null,
   "id": "50a14039",
   "metadata": {
    "scrolled": false
   },
   "outputs": [],
   "source": [
    "...\n",
    "...\n",
    "...\n",
    "..."
   ]
  },
  {
   "cell_type": "markdown",
   "id": "e7e50b96",
   "metadata": {},
   "source": [
    "#### We also have the velocities already calculated. Let's plot these\n",
    "We'll first need to define a time variable. We know the sampling rate was 250Hz"
   ]
  },
  {
   "cell_type": "code",
   "execution_count": null,
   "id": "13c45acf",
   "metadata": {},
   "outputs": [],
   "source": [
    "sampleRate=250\n",
    "t=np.arange(0, len(sx)/sampleRate,1/sampleRate)"
   ]
  },
  {
   "cell_type": "markdown",
   "id": "5570fefc",
   "metadata": {},
   "source": [
    "#### Now plot the horizontal and vertical velocity\n",
    "As you can see the horizontal velocity isn't constant. What causes this and what effect will it have?"
   ]
  },
  {
   "cell_type": "code",
   "execution_count": null,
   "id": "3a3c255a",
   "metadata": {
    "scrolled": true
   },
   "outputs": [],
   "source": [
    "...\n",
    "...\n",
    "...\n",
    "..."
   ]
  },
  {
   "cell_type": "markdown",
   "id": "f9212309",
   "metadata": {},
   "source": [
    "#### We now need to define the starting parameters for the model to work"
   ]
  },
  {
   "cell_type": "code",
   "execution_count": null,
   "id": "a2cc1ef5",
   "metadata": {},
   "outputs": [],
   "source": [
    "v0vert=vy[0]\n",
    "v0horz=vx[0]\n",
    "h0=sy[0]\n",
    "theta0=np.degrees(np.arctan(vy[0]/vx[0]))"
   ]
  },
  {
   "cell_type": "markdown",
   "id": "6b8b7433",
   "metadata": {},
   "source": [
    "#### We're going to define a custom function called 'model_trajectory' that will do all the calculations in one go.\n",
    "Once its been defined, a function can then be called anytime in the script. You've already used several built in ones such as 'np.degrees' and 'np.arange'"
   ]
  },
  {
   "cell_type": "code",
   "execution_count": null,
   "id": "5e8ef636",
   "metadata": {},
   "outputs": [],
   "source": [
    "def model_trajectory(v0vert,v0horz,h0,theta0,t):\n",
    "        \n",
    "    svert = h0 + v0vert*t-0.5*9.81*np.square(t)\n",
    "    shorz = v0horz*t\n",
    "\n",
    "    return svert,shorz"
   ]
  },
  {
   "cell_type": "markdown",
   "id": "f8a75106",
   "metadata": {},
   "source": [
    "#### We can now call this function and model the trajectory based on the starting parameters"
   ]
  },
  {
   "cell_type": "code",
   "execution_count": null,
   "id": "54092772",
   "metadata": {},
   "outputs": [],
   "source": [
    "svert,shorz=model_trajectory(v0vert,v0horz,h0,theta0,t)"
   ]
  },
  {
   "cell_type": "markdown",
   "id": "8953aae4",
   "metadata": {},
   "source": [
    "#### Let's see how they compare"
   ]
  },
  {
   "cell_type": "code",
   "execution_count": null,
   "id": "0c9faec0",
   "metadata": {},
   "outputs": [],
   "source": [
    "fig, ax = plt.subplots(figsize=(10,5))\n",
    "ax.plot(sx,sy,label='Data');\n",
    "ax.plot(shorz,svert,label='Model');\n",
    "ax.axis('scaled')\n",
    "ax.set_xlabel('x (m)');\n",
    "ax.set_ylabel('y (m)');\n",
    "ax.legend();"
   ]
  },
  {
   "cell_type": "markdown",
   "id": "6cfbc742",
   "metadata": {},
   "source": [
    "#### It's not terrible but the model overpredicts the range\n",
    "What if we take into account air resistance using the new function below? This gets a bit more complicated because now the velocity changes constantly through time so we have to keep updating it using a for loop.\n",
    "\n",
    "We'll also make this model do all the initial formatting of the data so it can be quickly run on other datasets"
   ]
  },
  {
   "cell_type": "code",
   "execution_count": null,
   "id": "234a4f3a",
   "metadata": {},
   "outputs": [],
   "source": [
    "def model_trajectory_air_resistance(data,sampleRate,S,m,CD0):\n",
    "\n",
    "    # format data\n",
    "    sx = data[:,0];\n",
    "    sy = data[:,1];\n",
    "    vx = data[:,2];\n",
    "    vy = data[:,3];\n",
    "    \n",
    "    v0vert=vy[0]\n",
    "    v0horz=vx[0]\n",
    "    h0=sy[0]\n",
    "    theta0=np.degrees(np.arctan(vy[0]/vx[0]))\n",
    "    \n",
    "    # get time series\n",
    "    t=np.arange(0, len(sx)/sampleRate,1/sampleRate)\n",
    "\n",
    "    # fixed parameters\n",
    "    rho = 1.225; # air density\n",
    "    g = 9.81 # acceleration due to gravity\n",
    "    \n",
    "    vy = v0vert\n",
    "    vx = v0horz\n",
    "    theta = theta0\n",
    "    \n",
    "    shorz=np.array([0])\n",
    "    svert=np.array([h0])\n",
    "        \n",
    "    t_step = 1/sampleRate # time step\n",
    "    \n",
    "    cont=1\n",
    "    \n",
    "    while cont==1:\n",
    "        \n",
    "        vtot=np.hypot(vx,vy) # total velocity\n",
    "\n",
    "        ax=-0.5*1/m*rho*vtot*S*(vx*CD0); # horizontal acceleration\n",
    "        ay=-0.5*1/m*rho*vtot*S*(vy*CD0)-g; # vertical acceleration\n",
    "    \n",
    "        # update variables\n",
    "        vx=vx + ax*t_step; # horizontal velocity\n",
    "        vy=vy + ay*t_step; # vertical velocity\n",
    "        \n",
    "        shorznew=shorz[-1] + vx*t_step + 0.5*ax*np.square(t_step);\n",
    "        svertnew=svert[-1] + vy*t_step + 0.5*ay*np.square(t_step);\n",
    "        \n",
    "        if svertnew<0:\n",
    "            cont=0\n",
    "        else:\n",
    "            shorz = np.append(shorz,shorznew)\n",
    "            svert = np.append(svert,svertnew)\n",
    "     \n",
    "    fig, ax = plt.subplots(figsize=(10,5))\n",
    "    ax.plot(sx,sy,label='Data');\n",
    "    ax.plot(shorz,svert,label='Model');\n",
    "    ax.axis('scaled')\n",
    "    ax.set_xlabel('x (m)');\n",
    "    ax.set_ylabel('y (m)');\n",
    "    ax.legend();\n",
    "\n",
    "    return svert,shorz"
   ]
  },
  {
   "cell_type": "markdown",
   "id": "07e2df69",
   "metadata": {},
   "source": [
    "#### We have a few new parameters to define\n",
    "S = projected surface area of the ball (m)\n",
    "\n",
    "m = mass of the ball (kg)\n",
    "\n",
    "CD0 = drag coefficient"
   ]
  },
  {
   "cell_type": "code",
   "execution_count": null,
   "id": "8efe3d50",
   "metadata": {},
   "outputs": [],
   "source": [
    "S = 0.00125 # fixed, based on a standard 40mm diameter ball\n",
    "m = 0.0027 # fixed, based on a standard 2.7g ball\n",
    "CD0 = 0.2 # from literature, but only an estimate so could be varied"
   ]
  },
  {
   "cell_type": "markdown",
   "id": "07c4816d",
   "metadata": {},
   "source": [
    "#### Run the function and see if it improves things\n",
    "Try modifying CD0 and see if that improves things"
   ]
  },
  {
   "cell_type": "code",
   "execution_count": null,
   "id": "0a2f3340",
   "metadata": {},
   "outputs": [],
   "source": [
    "svert,shorz=model_trajectory_air_resistance(data,sampleRate,S,m,CD0)"
   ]
  },
  {
   "cell_type": "markdown",
   "id": "06eedb1f",
   "metadata": {},
   "source": [
    "#### You can get a pretty good result with the right value of CD0\n",
    "But what if we try a different sequence?\n",
    "\n",
    "Let's load up a different dataset and run the function. You can go up trajectory = 82"
   ]
  },
  {
   "cell_type": "code",
   "execution_count": null,
   "id": "4f73a781",
   "metadata": {
    "scrolled": true
   },
   "outputs": [],
   "source": [
    "trajectory=...\n",
    "data = np.genfromtxt('trajectories/trajectory'+str(trajectory)+'.txt',delimiter=',');\n",
    "svert,shorz=model_trajectory_air_resistance(data,sampleRate,S,m,CD0)"
   ]
  },
  {
   "cell_type": "markdown",
   "id": "5565f28c",
   "metadata": {},
   "source": [
    "#### Some are ok, but there are also a lot that haven't worked well. What are we missing?\n",
    "Let's load up some data on the ball spin rates\n",
    "\n",
    "#### We can plot a histogram of them and indicate the 75th trajectory\n",
    "Topspin is negative, backspin is positive\n",
    "\n",
    "The 75th sequence had almost no spin, which is why it worked quite well before"
   ]
  },
  {
   "cell_type": "code",
   "execution_count": null,
   "id": "eebf5ec0",
   "metadata": {
    "scrolled": true
   },
   "outputs": [],
   "source": [
    "spinrates = np.genfromtxt('spinrates.txt',delimiter=',');\n",
    "fig, ax=plt.subplots(1)\n",
    "ax.hist(spinrates)\n",
    "ax.axvline(spinrates[74],color = 'r') # zero-based indexing so have to use -1\n",
    "ax.plot()\n",
    "ax.set(xlabel='Spinrate (rev/s)');"
   ]
  },
  {
   "cell_type": "markdown",
   "id": "b420a44f",
   "metadata": {},
   "source": [
    "#### So we can make a final model that incorporates spin.\n",
    "This will affect both lift and drag"
   ]
  },
  {
   "cell_type": "code",
   "execution_count": null,
   "id": "91f9eb47",
   "metadata": {},
   "outputs": [],
   "source": [
    "def model_trajectory_full_model(data,sampleRate,S,m,CD0,CLa,omega):\n",
    "\n",
    "    # format data\n",
    "    sx = data[:,0];\n",
    "    sy = data[:,1];\n",
    "    vx = data[:,2];\n",
    "    vy = data[:,3];\n",
    "    \n",
    "    v0vert=vy[0]\n",
    "    v0horz=vx[0]\n",
    "    h0=sy[0]\n",
    "    theta0=np.degrees(np.arctan(vy[0]/vx[0]))\n",
    "    \n",
    "    # get time series\n",
    "    t=np.arange(0, len(sx)/sampleRate,1/sampleRate)\n",
    "\n",
    "    # fixed parameters\n",
    "    rho = 1.225; # air density\n",
    "    g = 9.81 # acceleration due to gravity\n",
    "    \n",
    "    vy = v0vert\n",
    "    vx = v0horz\n",
    "    theta = theta0\n",
    "    \n",
    "    shorz=np.array([0])\n",
    "    svert=np.array([h0])\n",
    "        \n",
    "    t_step = 1/sampleRate # time step\n",
    "    \n",
    "    # lift and drag coefficients taking into account spin\n",
    "    CL=(-CLa*np.exp(-0.25*np.absolute(omega))+CLa)*np.sign(omega);\n",
    "    CD=CD0+0.005*np.absolute(omega);\n",
    "\n",
    "    cont=1\n",
    "    \n",
    "    while cont==1:\n",
    "        \n",
    "        vtot=np.hypot(vx,vy) # total velocity\n",
    "\n",
    "        ax=-0.5*1/m*rho*vtot*S*(vx*CD+vy*CL); # horizontal acceleration\n",
    "        ay=-0.5*1/m*rho*vtot*S*(vy*CD-vx*CL)-g; # vertical acceleration\n",
    "    \n",
    "        # update variables\n",
    "        vx=vx + ax*t_step; # horizontal velocity\n",
    "        vy=vy + ay*t_step; # vertical velocity\n",
    "        \n",
    "        shorznew=shorz[-1] + vx*t_step + 0.5*ax*np.square(t_step);\n",
    "        svertnew=svert[-1] + vy*t_step + 0.5*ay*np.square(t_step);\n",
    "        \n",
    "        if svertnew<0:\n",
    "            cont=0\n",
    "        else:\n",
    "            shorz = np.append(shorz,shorznew)\n",
    "            svert = np.append(svert,svertnew)\n",
    "     \n",
    "    fig, ax = plt.subplots(figsize=(10,5))\n",
    "    ax.plot(sx,sy,label='Data');\n",
    "    ax.plot(shorz,svert,label='Model');\n",
    "    ax.axis('scaled')\n",
    "    ax.set_xlabel('x (m)');\n",
    "    ax.set_ylabel('y (m)');\n",
    "    ax.legend();\n",
    "\n",
    "    return svert,shorz"
   ]
  },
  {
   "cell_type": "markdown",
   "id": "6b861f98",
   "metadata": {},
   "source": [
    "#### Let's try with some trajectories and run the final model\n",
    "Try changing the values of CD0 and CLa to see their effect. Can you find a combination that seems optimal?"
   ]
  },
  {
   "cell_type": "code",
   "execution_count": null,
   "id": "ba1ec3e2",
   "metadata": {},
   "outputs": [],
   "source": [
    "trajectory=80\n",
    "data = np.genfromtxt('trajectories/trajectory'+str(trajectory)+'.txt',delimiter=',');\n",
    "omega=spinrates[trajectory-1]\n",
    "\n",
    "CD0=...\n",
    "CLa=...\n",
    "\n",
    "svert,shorz=model_trajectory_full_model(data,sampleRate,S,m,CD0,CLa,omega)"
   ]
  }
 ],
 "metadata": {
  "kernelspec": {
   "display_name": "Python 3 (ipykernel)",
   "language": "python",
   "name": "python3"
  },
  "language_info": {
   "codemirror_mode": {
    "name": "ipython",
    "version": 3
   },
   "file_extension": ".py",
   "mimetype": "text/x-python",
   "name": "python",
   "nbconvert_exporter": "python",
   "pygments_lexer": "ipython3",
   "version": "3.7.11"
  },
  "varInspector": {
   "cols": {
    "lenName": 16,
    "lenType": 16,
    "lenVar": 40
   },
   "kernels_config": {
    "python": {
     "delete_cmd_postfix": "",
     "delete_cmd_prefix": "del ",
     "library": "var_list.py",
     "varRefreshCmd": "print(var_dic_list())"
    },
    "r": {
     "delete_cmd_postfix": ") ",
     "delete_cmd_prefix": "rm(",
     "library": "var_list.r",
     "varRefreshCmd": "cat(var_dic_list()) "
    }
   },
   "types_to_exclude": [
    "module",
    "function",
    "builtin_function_or_method",
    "instance",
    "_Feature"
   ],
   "window_display": false
  }
 },
 "nbformat": 4,
 "nbformat_minor": 5
}
