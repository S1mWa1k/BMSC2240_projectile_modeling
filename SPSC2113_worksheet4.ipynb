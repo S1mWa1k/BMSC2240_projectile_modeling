{
 "cells": [
  {
   "cell_type": "markdown",
   "id": "c57a4ce8",
   "metadata": {},
   "source": [
    "### This script uses a nonlinear least squares solver to find optimal model parameters"
   ]
  },
  {
   "cell_type": "code",
   "execution_count": null,
   "id": "436c9791",
   "metadata": {},
   "outputs": [],
   "source": [
    "import numpy as np\n",
    "from matplotlib import pyplot as plt\n",
    "from scipy.optimize import least_squares"
   ]
  },
  {
   "cell_type": "markdown",
   "id": "6654ed8b",
   "metadata": {},
   "source": [
    "#### Same model as in part 5, but CD0 and CLa are stored in single variable 'pararms' and output is the error sum of squares"
   ]
  },
  {
   "cell_type": "code",
   "execution_count": null,
   "id": "a24bccbe",
   "metadata": {},
   "outputs": [],
   "source": [
    "def model_trajectory_full_model(params,data,sampleRate,S,m,omega,plot):\n",
    "\n",
    "    # CD0 and CLa\n",
    "    CD0=params[0]\n",
    "    CLa=params[1]\n",
    "    \n",
    "    # format data\n",
    "    sx = data[:,0];\n",
    "    sy = data[:,1];\n",
    "    vx = data[:,2];\n",
    "    vy = data[:,3];\n",
    "    \n",
    "    v0vert=vy[0]\n",
    "    v0horz=vx[0]\n",
    "    h0=sy[0]\n",
    "    theta0=np.degrees(np.arctan(vy[0]/vx[0]))\n",
    "    \n",
    "    # get time series\n",
    "    t=np.arange(0, len(sx)/sampleRate,1/sampleRate)\n",
    "\n",
    "    # fixed parameters\n",
    "    rho = 1.225; # air density\n",
    "    g = 9.81 # acceleration due to gravity\n",
    "    \n",
    "    vy = v0vert\n",
    "    vx = v0horz\n",
    "    theta = theta0\n",
    "    \n",
    "    shorz=np.array([0])\n",
    "    svert=np.array([h0])\n",
    "        \n",
    "    t_step = 1/sampleRate # time step\n",
    "    \n",
    "    # lift and drag coefficients taking into account spin\n",
    "    CL=(-CLa*np.exp(-0.25*np.absolute(omega))+CLa)*np.sign(omega);\n",
    "    CD=CD0+0.005*np.absolute(omega);\n",
    "\n",
    "    cont=1\n",
    "    \n",
    "    while cont==1:\n",
    "        \n",
    "        vtot=np.hypot(vx,vy) # total velocity\n",
    "\n",
    "        ax=-0.5*1/m*rho*vtot*S*(vx*CD+vy*CL); # horizontal acceleration\n",
    "        ay=-0.5*1/m*rho*vtot*S*(vy*CD-vx*CL)-g; # vertical acceleration\n",
    "    \n",
    "        # update variables\n",
    "        vx=vx + ax*t_step; # horizontal velocity\n",
    "        vy=vy + ay*t_step; # vertical velocity\n",
    "        \n",
    "        shorznew=shorz[-1] + vx*t_step + 0.5*ax*np.square(t_step);\n",
    "        svertnew=svert[-1] + vy*t_step + 0.5*ay*np.square(t_step);\n",
    "        \n",
    "        if len(shorz)>=len(sx):\n",
    "            cont=0\n",
    "        else:\n",
    "            shorz = np.append(shorz,shorznew)\n",
    "            svert = np.append(svert,svertnew)\n",
    "            \n",
    "    error=np.sum(np.square(svert-sy)+np.square(shorz-sx))\n",
    "    \n",
    "    if plot==1:\n",
    "        fig, ax = plt.subplots(figsize=(10,5))\n",
    "        ax.plot(sx,sy,label='Data');\n",
    "        ax.plot(shorz,svert,label='Model');\n",
    "        ax.axis('scaled')\n",
    "        ax.set_xlabel('x (m)');\n",
    "        ax.set_ylabel('y (m)');\n",
    "        ax.legend();\n",
    "        \n",
    "    return error"
   ]
  },
  {
   "cell_type": "markdown",
   "id": "7bb25070",
   "metadata": {},
   "source": [
    "#### Fix values"
   ]
  },
  {
   "cell_type": "code",
   "execution_count": null,
   "id": "0ca6d8c8",
   "metadata": {},
   "outputs": [],
   "source": [
    "S = 0.00125 # fixed, based on a standard 40mm diameter ball\n",
    "m = 0.0027 # fixed, based on a standard 2.7g ball\n",
    "sampleRate=250"
   ]
  },
  {
   "cell_type": "markdown",
   "id": "7b4b1e4f",
   "metadata": {},
   "source": [
    "#### Use least_squares function to find opimtimal values of CD0 and CLa"
   ]
  },
  {
   "cell_type": "code",
   "execution_count": null,
   "id": "fb8a1191",
   "metadata": {},
   "outputs": [],
   "source": [
    "trajectory=28\n",
    "%matplotlib inline\n",
    "data = np.genfromtxt('trajectories/trajectory'+str(trajectory)+'.txt',delimiter=',');\n",
    "\n",
    "spinrates = np.genfromtxt('spinrates.txt',delimiter=',');\n",
    "omega=spinrates[trajectory-1]\n",
    "\n",
    "params0=[0.5,0.5] # initial values for CD0 and CLa\n",
    "res_lsq = least_squares(model_trajectory_full_model, params0, args=(data, sampleRate, S, m, omega,0))\n",
    "\n",
    "CD0_opt=res_lsq.x[0]\n",
    "CLa_opt=res_lsq.x[1]\n",
    "\n",
    "model_trajectory_full_model([CD0_opt, CLa_opt],data,sampleRate,S,m,omega,1);\n",
    "print('Optimal CD0 =',CD0_opt)\n",
    "print('Optimal CLa =',CLa_opt)"
   ]
  },
  {
   "cell_type": "markdown",
   "id": "313103c1",
   "metadata": {},
   "source": [
    "#### Would be better to find an overall optimum for all sequences\n",
    "First load in all the data and store in a single array to save time loading text files each time"
   ]
  },
  {
   "cell_type": "code",
   "execution_count": null,
   "id": "a115a8a5",
   "metadata": {},
   "outputs": [],
   "source": [
    "data_array=[]\n",
    "\n",
    "for trajectory in np.arange(1,83):\n",
    "    data = np.genfromtxt('trajectories/trajectory'+str(trajectory)+'.txt',delimiter=',')\n",
    "    data_array.append(data)\n"
   ]
  },
  {
   "cell_type": "markdown",
   "id": "5f60f7fe",
   "metadata": {},
   "source": [
    "#### Can now create a new function that runs on all the data simultaneously"
   ]
  },
  {
   "cell_type": "code",
   "execution_count": null,
   "id": "5284af9e",
   "metadata": {},
   "outputs": [],
   "source": [
    "def model_all_trajectories(params,data_array,sampleRate,S,m,spinrates):\n",
    "\n",
    "    # CD0 and CLa\n",
    "    CD0=params[0]\n",
    "    CLa=params[1]\n",
    "    \n",
    "    error=[]\n",
    "    for i in np.arange(0,len(data_array)):\n",
    "        \n",
    "        data=data_array[i];\n",
    "        omega=spinrates[i]\n",
    "\n",
    "        # format data\n",
    "        sx = data[:,0];\n",
    "        sy = data[:,1];\n",
    "        vx = data[:,2];\n",
    "        vy = data[:,3];\n",
    "\n",
    "        v0vert=vy[0]\n",
    "        v0horz=vx[0]\n",
    "        h0=sy[0]\n",
    "        theta0=np.degrees(np.arctan(vy[0]/vx[0]))\n",
    "\n",
    "        # get time series\n",
    "        t=np.arange(0, len(sx)/sampleRate,1/sampleRate)\n",
    "\n",
    "        # fixed parameters\n",
    "        rho = 1.225; # air density\n",
    "        g = 9.81 # acceleration due to gravity\n",
    "\n",
    "        vy = v0vert\n",
    "        vx = v0horz\n",
    "        theta = theta0\n",
    "\n",
    "        shorz=np.array([0])\n",
    "        svert=np.array([h0])\n",
    "\n",
    "        t_step = 1/sampleRate # time step\n",
    "\n",
    "        # lift and drag coefficients taking into account spin\n",
    "        CL=(-CLa*np.exp(-0.25*np.absolute(omega))+CLa)*np.sign(omega);\n",
    "        CD=CD0+0.005*np.absolute(omega);\n",
    "\n",
    "        cont=1\n",
    "        \n",
    "        while cont==1:\n",
    "\n",
    "            vtot=np.hypot(vx,vy) # total velocity\n",
    "\n",
    "            ax=-0.5*1/m*rho*vtot*S*(vx*CD+vy*CL); # horizontal acceleration\n",
    "            ay=-0.5*1/m*rho*vtot*S*(vy*CD-vx*CL)-g; # vertical acceleration\n",
    "\n",
    "            # update variables\n",
    "            vx=vx + ax*t_step; # horizontal velocity\n",
    "            vy=vy + ay*t_step; # vertical velocity\n",
    "\n",
    "            shorznew=shorz[-1] + vx*t_step + 0.5*ax*np.square(t_step);\n",
    "            svertnew=svert[-1] + vy*t_step + 0.5*ay*np.square(t_step);\n",
    "\n",
    "            if len(shorz)>=len(sx):\n",
    "                cont=0\n",
    "            else:\n",
    "                shorz = np.append(shorz,shorznew)\n",
    "                svert = np.append(svert,svertnew)\n",
    "\n",
    "        error.append(np.sum(np.square(svert-sy)+np.square(shorz-sx)))\n",
    "        \n",
    "#     print(error)\n",
    "    error_total=np.sum(error)\n",
    "    \n",
    "    return error_total"
   ]
  },
  {
   "cell_type": "markdown",
   "id": "5e0bc5be",
   "metadata": {},
   "source": [
    "#### Now run least squares solver on all trajectories simultaneously"
   ]
  },
  {
   "cell_type": "code",
   "execution_count": null,
   "id": "ba3145f5",
   "metadata": {
    "scrolled": true
   },
   "outputs": [],
   "source": [
    "params0=[0.5,0.5] # initial values for CD0 and CLa\n",
    "res_lsq = least_squares(model_all_trajectories, params0, args=(data_array, sampleRate, S, m, spinrates))\n",
    "\n",
    "CD0_globalopt=res_lsq.x[0]\n",
    "CLa_globalopt=res_lsq.x[1]\n",
    "\n",
    "print('Optimal CD0 =',CD0_globalopt)\n",
    "print('Optimal CLa =',CLa_globalopt)"
   ]
  },
  {
   "cell_type": "markdown",
   "id": "9ec03e16",
   "metadata": {},
   "source": [
    "#### Test results on a single sequence"
   ]
  },
  {
   "cell_type": "code",
   "execution_count": null,
   "id": "dda88a76",
   "metadata": {},
   "outputs": [],
   "source": [
    "trajectory=20\n",
    "\n",
    "omega=spinrates[trajectory-1]\n",
    "model_trajectory_full_model([CD0_globalopt, CLa_globalopt],data_array[trajectory-1],sampleRate,S,m,omega,1);\n"
   ]
  },
  {
   "cell_type": "code",
   "execution_count": null,
   "id": "744a1fb1",
   "metadata": {},
   "outputs": [],
   "source": []
  }
 ],
 "metadata": {
  "kernelspec": {
   "display_name": "Python 3 (ipykernel)",
   "language": "python",
   "name": "python3"
  },
  "language_info": {
   "codemirror_mode": {
    "name": "ipython",
    "version": 3
   },
   "file_extension": ".py",
   "mimetype": "text/x-python",
   "name": "python",
   "nbconvert_exporter": "python",
   "pygments_lexer": "ipython3",
   "version": "3.11.5"
  },
  "varInspector": {
   "cols": {
    "lenName": 16,
    "lenType": 16,
    "lenVar": 40
   },
   "kernels_config": {
    "python": {
     "delete_cmd_postfix": "",
     "delete_cmd_prefix": "del ",
     "library": "var_list.py",
     "varRefreshCmd": "print(var_dic_list())"
    },
    "r": {
     "delete_cmd_postfix": ") ",
     "delete_cmd_prefix": "rm(",
     "library": "var_list.r",
     "varRefreshCmd": "cat(var_dic_list()) "
    }
   },
   "types_to_exclude": [
    "module",
    "function",
    "builtin_function_or_method",
    "instance",
    "_Feature"
   ],
   "window_display": false
  }
 },
 "nbformat": 4,
 "nbformat_minor": 5
}
