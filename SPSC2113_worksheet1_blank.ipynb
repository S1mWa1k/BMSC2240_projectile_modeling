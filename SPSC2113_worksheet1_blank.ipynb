{
 "cells": [
  {
   "cell_type": "markdown",
   "id": "d6446ed0",
   "metadata": {},
   "source": [
    "### This script will determine how far a ball will travel given initial velocity, height and launch angle\n",
    "\n",
    "#### Need to first define initial parameters\n",
    "\n",
    "v0 = initial velocity (m/s)\n",
    "\n",
    "theta0 = intial launch angle (deg)\n",
    "\n",
    "h0 = launch height (m)"
   ]
  },
  {
   "cell_type": "markdown",
   "id": "e3786ceb",
   "metadata": {},
   "source": [
    "#### Try typing \"v0 =\" and then a number in the cell below. Press enter for a new line and repeat for theta0 and h0. Press shift+enter to run the cell"
   ]
  },
  {
   "cell_type": "code",
   "execution_count": null,
   "id": "64ce1287",
   "metadata": {},
   "outputs": [],
   "source": [
    "...\n",
    "...\n",
    "..."
   ]
  },
  {
   "cell_type": "markdown",
   "id": "885396ec",
   "metadata": {},
   "source": [
    "#### We have our starting parameters so can start modelling the trajectory\n",
    "\n",
    "We first have to install a package that let's us use mathemtical functions. Run the cell below (shift+enter)"
   ]
  },
  {
   "cell_type": "code",
   "execution_count": null,
   "id": "0ea163a7",
   "metadata": {},
   "outputs": [],
   "source": [
    "import numpy as np"
   ]
  },
  {
   "cell_type": "markdown",
   "id": "425abce5",
   "metadata": {},
   "source": [
    "#### Let's calculate the vertical and horizontal components of the velocity. Select the cell below and press shift+enter to run it"
   ]
  },
  {
   "cell_type": "code",
   "execution_count": null,
   "id": "86373fa9",
   "metadata": {},
   "outputs": [],
   "source": [
    "v0vert = v0*np.sin(np.radians(theta0))\n",
    "v0horz = v0*np.cos(np.radians(theta0))"
   ]
  },
  {
   "cell_type": "markdown",
   "id": "59df49d4",
   "metadata": {},
   "source": [
    "#### You can see what these values are using the 'print' function"
   ]
  },
  {
   "cell_type": "code",
   "execution_count": null,
   "id": "8b31a601",
   "metadata": {},
   "outputs": [],
   "source": [
    "print(\"vertical velocity =\", v0vert, 'm/s')"
   ]
  },
  {
   "cell_type": "markdown",
   "id": "14f6c7ca",
   "metadata": {},
   "source": [
    "#### Do the same for the horizontal velocity in the cell below"
   ]
  },
  {
   "cell_type": "code",
   "execution_count": null,
   "id": "09dfd613",
   "metadata": {},
   "outputs": [],
   "source": [
    "..."
   ]
  },
  {
   "cell_type": "markdown",
   "id": "d1c57d3c",
   "metadata": {},
   "source": [
    "#### Now let's work out the maximum height the ball will reach"
   ]
  },
  {
   "cell_type": "code",
   "execution_count": null,
   "id": "92995b27",
   "metadata": {},
   "outputs": [],
   "source": [
    "hmax = np.square(v0vert)/(2*9.81)+h0"
   ]
  },
  {
   "cell_type": "markdown",
   "id": "9f503bca",
   "metadata": {},
   "source": [
    "#### Print the answer"
   ]
  },
  {
   "cell_type": "code",
   "execution_count": null,
   "id": "25e7fbbf",
   "metadata": {},
   "outputs": [],
   "source": [
    "print(\"maximum height =\",hmax,'m')"
   ]
  },
  {
   "cell_type": "markdown",
   "id": "ca820d55",
   "metadata": {},
   "source": [
    "#### Now calculate:\n",
    "\n",
    "t_1 = time from kick to maximum height\n",
    "\n",
    "t_2 = time from max height to the ground"
   ]
  },
  {
   "cell_type": "code",
   "execution_count": null,
   "id": "92f64925",
   "metadata": {},
   "outputs": [],
   "source": [
    "t1 = v0vert/9.81\n",
    "t2 = np.sqrt(2*hmax/9.81)"
   ]
  },
  {
   "cell_type": "markdown",
   "id": "372e7abf",
   "metadata": {},
   "source": [
    "#### Print the answers"
   ]
  },
  {
   "cell_type": "code",
   "execution_count": null,
   "id": "ac0cfc61",
   "metadata": {},
   "outputs": [],
   "source": [
    "...\n",
    "..."
   ]
  },
  {
   "cell_type": "markdown",
   "id": "167ea8c2",
   "metadata": {},
   "source": [
    "#### Now try and calculate the total flight time, t_total, and print the answer"
   ]
  },
  {
   "cell_type": "code",
   "execution_count": null,
   "id": "44e1e9c1",
   "metadata": {},
   "outputs": [],
   "source": [
    "ttotal = ..."
   ]
  },
  {
   "cell_type": "code",
   "execution_count": null,
   "id": "ce56e920",
   "metadata": {},
   "outputs": [],
   "source": [
    "print(\"total flight time = \",ttotal,'sec')"
   ]
  },
  {
   "cell_type": "markdown",
   "id": "1637c35b",
   "metadata": {},
   "source": [
    "#### Finally, calculate the range"
   ]
  },
  {
   "cell_type": "code",
   "execution_count": null,
   "id": "725c415d",
   "metadata": {},
   "outputs": [],
   "source": [
    "range = v0horz*ttotal"
   ]
  },
  {
   "cell_type": "markdown",
   "id": "4a9de453",
   "metadata": {},
   "source": [
    "#### Print the answer"
   ]
  },
  {
   "cell_type": "code",
   "execution_count": null,
   "id": "8bd81b6c",
   "metadata": {},
   "outputs": [],
   "source": [
    "..."
   ]
  },
  {
   "cell_type": "markdown",
   "id": "280758d7",
   "metadata": {},
   "source": [
    "## We've calculated the various parameters for describing the motion, now let's plot the trajectory\n",
    "First need to import a plotting package and define a time vector. The cell below will create 200 evenly spaced points between 0 and ttotal"
   ]
  },
  {
   "cell_type": "code",
   "execution_count": null,
   "id": "0e62e3de",
   "metadata": {},
   "outputs": [],
   "source": [
    "from matplotlib import pyplot as plt \n",
    "t = np.linspace(0, ttotal, 200)"
   ]
  },
  {
   "cell_type": "markdown",
   "id": "d1617a4e",
   "metadata": {},
   "source": [
    "Can now calculate:\n",
    "\n",
    "svert = vertical position\n",
    "shorz = horizontal position"
   ]
  },
  {
   "cell_type": "code",
   "execution_count": null,
   "id": "316008a5",
   "metadata": {},
   "outputs": [],
   "source": [
    "svert = h0 + v0vert*t-0.5*9.81*np.square(t)\n",
    "shorz = v0horz*t"
   ]
  },
  {
   "cell_type": "code",
   "execution_count": null,
   "id": "0d190e28",
   "metadata": {
    "scrolled": true
   },
   "outputs": [],
   "source": [
    "fig, ax = plt.subplots(figsize=(10,5)) # fig = the figure window in which axes are plotted, ax = the axes that we will plot in\n",
    "ax.plot(shorz,svert); # this plots the data on the axes created in the line above\n",
    "ax.axis('scaled'); # this makes the axes have the same scale"
   ]
  },
  {
   "cell_type": "markdown",
   "id": "9a170901",
   "metadata": {},
   "source": [
    "#### The trajectory looks good, but it's missing axis labels.\n",
    "Create another figure and label the x-axis with the cell below. Try adding another line to label the y-axis"
   ]
  },
  {
   "cell_type": "code",
   "execution_count": null,
   "id": "05e03451",
   "metadata": {},
   "outputs": [],
   "source": [
    "fig, ax = plt.subplots(figsize=(10,5))\n",
    "ax.plot(shorz,svert)\n",
    "ax.axis('scaled')\n",
    "ax.set_xlabel('x (m)');\n",
    "..."
   ]
  },
  {
   "cell_type": "markdown",
   "id": "800c2593",
   "metadata": {},
   "source": [
    "#### Now calculate the vertical and horizontal velocities and plot them"
   ]
  },
  {
   "cell_type": "code",
   "execution_count": null,
   "id": "9daf8feb",
   "metadata": {},
   "outputs": [],
   "source": [
    "vvert=v0vert-9.81*t\n",
    "vhorz=v0horz+0*t"
   ]
  },
  {
   "cell_type": "code",
   "execution_count": null,
   "id": "522295ad",
   "metadata": {},
   "outputs": [],
   "source": [
    "fig, ax = plt.subplots(1)\n",
    "ax.plot(t,vvert)\n",
    "ax.plot(t,vhorz)\n",
    "ax.set_xlabel('time (sec)');\n",
    "ax.set_ylabel('velocity (m/s)');"
   ]
  },
  {
   "cell_type": "markdown",
   "id": "58f53a2c",
   "metadata": {},
   "source": [
    "#### Looks good, but needs a legend to distinguish the lines"
   ]
  },
  {
   "cell_type": "code",
   "execution_count": null,
   "id": "7391a6b0",
   "metadata": {},
   "outputs": [],
   "source": [
    "fig, ax = plt.subplots(1)\n",
    "ax.plot(t,vvert,label='Vertical')\n",
    "ax.plot(t,vhorz,label='Horizontal')\n",
    "ax.set_xlabel('time (sec)');\n",
    "ax.set_ylabel('velocity (m/s)');\n",
    "ax.legend();"
   ]
  },
  {
   "cell_type": "markdown",
   "id": "ebcedc00",
   "metadata": {},
   "source": [
    "#### Finally, calculate and plot the trajectory angle through time\n",
    "The angle will need to be converted to degrees (unless you like radians)"
   ]
  },
  {
   "cell_type": "code",
   "execution_count": null,
   "id": "8468c1cb",
   "metadata": {},
   "outputs": [],
   "source": [
    "theta = np.degrees(np.arctan(vvert/vhorz))"
   ]
  },
  {
   "cell_type": "markdown",
   "id": "1a539034",
   "metadata": {},
   "source": [
    "#### Plot the result and give the axes suitable labels"
   ]
  },
  {
   "cell_type": "code",
   "execution_count": null,
   "id": "0e51a48e",
   "metadata": {},
   "outputs": [],
   "source": [
    "...\n",
    "...\n",
    "...\n",
    "..."
   ]
  }
 ],
 "metadata": {
  "kernelspec": {
   "display_name": "Python 3 (ipykernel)",
   "language": "python",
   "name": "python3"
  },
  "language_info": {
   "codemirror_mode": {
    "name": "ipython",
    "version": 3
   },
   "file_extension": ".py",
   "mimetype": "text/x-python",
   "name": "python",
   "nbconvert_exporter": "python",
   "pygments_lexer": "ipython3",
   "version": "3.7.11"
  },
  "varInspector": {
   "cols": {
    "lenName": 16,
    "lenType": 16,
    "lenVar": 40
   },
   "kernels_config": {
    "python": {
     "delete_cmd_postfix": "",
     "delete_cmd_prefix": "del ",
     "library": "var_list.py",
     "varRefreshCmd": "print(var_dic_list())"
    },
    "r": {
     "delete_cmd_postfix": ") ",
     "delete_cmd_prefix": "rm(",
     "library": "var_list.r",
     "varRefreshCmd": "cat(var_dic_list()) "
    }
   },
   "types_to_exclude": [
    "module",
    "function",
    "builtin_function_or_method",
    "instance",
    "_Feature"
   ],
   "window_display": false
  }
 },
 "nbformat": 4,
 "nbformat_minor": 5
}
