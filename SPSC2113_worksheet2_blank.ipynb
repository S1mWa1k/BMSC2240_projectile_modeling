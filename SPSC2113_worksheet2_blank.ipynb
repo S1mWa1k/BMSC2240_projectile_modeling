{
 "cells": [
  {
   "cell_type": "markdown",
   "id": "b8b40eeb",
   "metadata": {},
   "source": [
    "### This script will determine the optimal angle to kick a ball for attaining maximum distance\n",
    "First import the maths and plotting packages we used before"
   ]
  },
  {
   "cell_type": "code",
   "execution_count": null,
   "id": "83a281b3",
   "metadata": {},
   "outputs": [],
   "source": [
    "import numpy as np\n",
    "from matplotlib import pyplot as plt "
   ]
  },
  {
   "cell_type": "markdown",
   "id": "9c035dcf",
   "metadata": {},
   "source": [
    "#### Give some new values for:\n",
    "\n",
    "v0 = initial velocity (m/s)\n",
    "\n",
    "h0 = launch height (m)"
   ]
  },
  {
   "cell_type": "code",
   "execution_count": null,
   "id": "d5a08301",
   "metadata": {},
   "outputs": [],
   "source": [
    "...\n",
    "..."
   ]
  },
  {
   "cell_type": "markdown",
   "id": "f346320a",
   "metadata": {},
   "source": [
    "#### For theta0 we need to create a range of values to test the effect of different angles\n",
    "We'll use the arange function to do this.\n",
    "\n",
    "This takes the format np.arange(start,stop,step)\n",
    "\n",
    "Let's make the angle go from 10 to 60 degrees in 0.1 degree steps"
   ]
  },
  {
   "cell_type": "code",
   "execution_count": null,
   "id": "c75d4770",
   "metadata": {},
   "outputs": [],
   "source": [
    "theta0 = np.arange(10,60,0.1)"
   ]
  },
  {
   "cell_type": "markdown",
   "id": "0e354b69",
   "metadata": {},
   "source": [
    "#### As with the first worksheet we can now calculate the same parameters as before. Try calculating:\n",
    "vvert = vertical velocity\n",
    "\n",
    "vhohrz = horizontal velocity\n",
    "\n",
    "hmax = maximum height\n",
    "\n",
    "ttotal = total flight time\n",
    "\n",
    "range = total horizontal distance"
   ]
  },
  {
   "cell_type": "code",
   "execution_count": null,
   "id": "426b5305",
   "metadata": {},
   "outputs": [],
   "source": [
    "v0vert = ...\n",
    "v0horz = ...\n",
    "hmax = ...\n",
    "t1 = ...\n",
    "t2 = ...\n",
    "ttotal = ...\n",
    "range = ..."
   ]
  },
  {
   "cell_type": "markdown",
   "id": "c88d1a66",
   "metadata": {},
   "source": [
    "#### Now we want to find the max range"
   ]
  },
  {
   "cell_type": "code",
   "execution_count": null,
   "id": "8e51ed84",
   "metadata": {},
   "outputs": [],
   "source": [
    "maxrange=np.max(range)\n",
    "print('maximum range',maxrange,'m')"
   ]
  },
  {
   "cell_type": "markdown",
   "id": "75eecdbd",
   "metadata": {},
   "source": [
    "#### Great, but we want to know what launch angle this occurs at\n",
    "To do this we'll find the index where the range is maximum"
   ]
  },
  {
   "cell_type": "code",
   "execution_count": null,
   "id": "44c3884b",
   "metadata": {},
   "outputs": [],
   "source": [
    "maxrange_index = np.argmax(range)"
   ]
  },
  {
   "cell_type": "markdown",
   "id": "8408b11c",
   "metadata": {},
   "source": [
    "#### Print the result"
   ]
  },
  {
   "cell_type": "code",
   "execution_count": null,
   "id": "e3c77b28",
   "metadata": {},
   "outputs": [],
   "source": [
    "..."
   ]
  },
  {
   "cell_type": "markdown",
   "id": "b0c2ed8f",
   "metadata": {},
   "source": [
    "#### We can now get the launch angle at this index. Calculate it with the line below and then print the result"
   ]
  },
  {
   "cell_type": "code",
   "execution_count": null,
   "id": "5831c5fb",
   "metadata": {},
   "outputs": [],
   "source": [
    "optimaltheta=theta0[maxrange_index]\n",
    "print('optimal launch angle =',optimaltheta,'deg')"
   ]
  },
  {
   "cell_type": "markdown",
   "id": "cb2f66a0",
   "metadata": {},
   "source": [
    "#### Now plot the results\n",
    "We'll include vertical and horizontal red lines that show the optimal angle and range"
   ]
  },
  {
   "cell_type": "code",
   "execution_count": null,
   "id": "d8835b56",
   "metadata": {},
   "outputs": [],
   "source": [
    "fig, ax = plt.subplots(figsize=(10,5))\n",
    "ax.plot(theta0,range);\n",
    "ax.axis('scaled')\n",
    "ax.axvline(optimaltheta,color = 'r')\n",
    "ax.axhline(maxrange,color = 'r')\n",
    "ax.set_xlabel('launch angle (deg)');\n",
    "ax.set_ylabel('range (m)');"
   ]
  }
 ],
 "metadata": {
  "kernelspec": {
   "display_name": "Python 3 (ipykernel)",
   "language": "python",
   "name": "python3"
  },
  "language_info": {
   "codemirror_mode": {
    "name": "ipython",
    "version": 3
   },
   "file_extension": ".py",
   "mimetype": "text/x-python",
   "name": "python",
   "nbconvert_exporter": "python",
   "pygments_lexer": "ipython3",
   "version": "3.7.11"
  },
  "varInspector": {
   "cols": {
    "lenName": 16,
    "lenType": 16,
    "lenVar": 40
   },
   "kernels_config": {
    "python": {
     "delete_cmd_postfix": "",
     "delete_cmd_prefix": "del ",
     "library": "var_list.py",
     "varRefreshCmd": "print(var_dic_list())"
    },
    "r": {
     "delete_cmd_postfix": ") ",
     "delete_cmd_prefix": "rm(",
     "library": "var_list.r",
     "varRefreshCmd": "cat(var_dic_list()) "
    }
   },
   "types_to_exclude": [
    "module",
    "function",
    "builtin_function_or_method",
    "instance",
    "_Feature"
   ],
   "window_display": false
  }
 },
 "nbformat": 4,
 "nbformat_minor": 5
}
